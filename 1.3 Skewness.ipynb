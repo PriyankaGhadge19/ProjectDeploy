{
 "cells": [
  {
   "cell_type": "code",
   "execution_count": 1,
   "id": "59c095ce",
   "metadata": {},
   "outputs": [
    {
     "name": "stdout",
     "output_type": "stream",
     "text": [
      "0.029331688766181797\n"
     ]
    }
   ],
   "source": [
    "from scipy.stats import skew\n",
    "  \n",
    "# Creating a dataset\n",
    "dataset = [88, 85, 82, 97, 67, 77, 74, 86, \n",
    "           81, 95, 77, 88, 85, 76, 81]\n",
    "  \n",
    "# Calculate the skewness\n",
    "print(skew(dataset, axis=0, bias=True))"
   ]
  },
  {
   "cell_type": "markdown",
   "id": "c662e7c4",
   "metadata": {},
   "source": [
    "Syntax:\n",
    "\n",
    "scipy.stats.skew(array, axis=0, bias=True)\n",
    "\n",
    "Parameters:\n",
    "\n",
    "array: It represents the input array (or object) containing elements.\n",
    "axis: It signifies the axis along which we want to find the skewness value (By default axis = 0).\n",
    "bias = False: Calculations are corrected to statistical bias."
   ]
  }
 ],
 "metadata": {
  "kernelspec": {
   "display_name": "Python 3",
   "language": "python",
   "name": "python3"
  },
  "language_info": {
   "codemirror_mode": {
    "name": "ipython",
    "version": 3
   },
   "file_extension": ".py",
   "mimetype": "text/x-python",
   "name": "python",
   "nbconvert_exporter": "python",
   "pygments_lexer": "ipython3",
   "version": "3.8.8"
  }
 },
 "nbformat": 4,
 "nbformat_minor": 5
}
